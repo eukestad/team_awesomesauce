{
 "cells": [
  {
   "cell_type": "code",
   "execution_count": 1,
   "metadata": {},
   "outputs": [],
   "source": [
    "#import dependencies\n",
    "import pandas as pd\n"
   ]
  },
  {
   "cell_type": "code",
   "execution_count": 2,
   "metadata": {},
   "outputs": [
    {
     "data": {
      "text/plain": [
       "Index(['PASSENGERS', 'FREIGHT', 'MAIL', 'DISTANCE', 'UNIQUE_CARRIER',\n",
       "       'AIRLINE_ID', 'UNIQUE_CARRIER_NAME', 'UNIQUE_CARRIER_ENTITY', 'REGION',\n",
       "       'CARRIER', 'CARRIER_NAME', 'CARRIER_GROUP', 'CARRIER_GROUP_NEW',\n",
       "       'ORIGIN_AIRPORT_ID', 'ORIGIN_AIRPORT_SEQ_ID', 'ORIGIN_CITY_MARKET_ID',\n",
       "       'ORIGIN', 'ORIGIN_CITY_NAME', 'ORIGIN_STATE_ABR', 'ORIGIN_STATE_FIPS',\n",
       "       'ORIGIN_STATE_NM', 'ORIGIN_COUNTRY', 'ORIGIN_COUNTRY_NAME',\n",
       "       'ORIGIN_WAC', 'DEST_AIRPORT_ID', 'DEST_AIRPORT_SEQ_ID',\n",
       "       'DEST_CITY_MARKET_ID', 'DEST', 'DEST_CITY_NAME', 'DEST_STATE_ABR',\n",
       "       'DEST_STATE_FIPS', 'DEST_STATE_NM', 'DEST_COUNTRY', 'DEST_COUNTRY_NAME',\n",
       "       'DEST_WAC', 'YEAR', 'QUARTER', 'MONTH', 'DISTANCE_GROUP', 'CLASS',\n",
       "       'DATA_SOURCE', 'Unnamed: 41'],\n",
       "      dtype='object')"
      ]
     },
     "execution_count": 2,
     "metadata": {},
     "output_type": "execute_result"
    }
   ],
   "source": [
    "#get data\n",
    "\n",
    "file2019 = \"resources/399417274_T_T100_MARKET_ALL_CARRIER.csv\"\n",
    "file2020 = \"resources/399417274_T_T100_MARKET_ALL_CARRIER2.csv\"\n",
    "\n",
    "data2019 = pd.read_csv(file2019)\n",
    "data2020 = pd.read_csv(file2020)\n",
    "\n",
    "df_list = [data2019,data2020]\n",
    "\n",
    "alldata = pd.concat(df_list)\n",
    "alldata.columns"
   ]
  },
  {
   "cell_type": "raw",
   "metadata": {},
   "source": [
    "Class Types:\n",
    "Code,Description\n",
    "A,\"Scheduled First Class Passenger/ Cargo Service A\"\n",
    "C,\"Scheduled Coach Passenger/ Cargo Service C\"\n",
    "E,\"Scheduled Mixed First Class And Coach, Passenger/ Cargo Service E\"\n",
    "F,\"Scheduled Passenger/ Cargo Service F\"\n",
    "G,\"Scheduled All Cargo Service G\"\n",
    "H,\"Humane Reason Unscheduled, Non-Revenue-Generating\"\n",
    "K,\"Scheduled Service K (F+G)\"\n",
    "L,\"Non-Scheduled Civilian Passenger/ Cargo Service L\"\n",
    "N,\"Non-Scheduled Military Passenger/ Cargo Service N\"\n",
    "P,\"Non-Scheduled Civilian All Cargo Service P\"\n",
    "Q,\"Non-Scheduled Services (Other Than Charter) Q\"\n",
    "R,\"Non-Scheduled Military All Cargo R\"\n",
    "V,\"Non-Scheduled Service V (L+N+P+R) For U.S. Carrier And (L+P+Q) For Foreign Carrier\"\n",
    "Z,\"All Service Z (K+V)\"\n"
   ]
  },
  {
   "cell_type": "code",
   "execution_count": 3,
   "metadata": {},
   "outputs": [],
   "source": [
    "#filter data for passenger flights\n",
    "passdata = alldata.loc[(alldata['MONTH']<8)&((alldata['CLASS'] =='A') | (alldata['CLASS'] =='C') | (alldata['CLASS'] =='E') | (alldata['CLASS'] =='F'))  ,:]"
   ]
  },
  {
   "cell_type": "code",
   "execution_count": 4,
   "metadata": {},
   "outputs": [],
   "source": [
    "# limit columns\n",
    "passdata = passdata[['UNIQUE_CARRIER_NAME', 'ORIGIN', 'ORIGIN_CITY_NAME', 'ORIGIN_STATE_ABR',\n",
    "       'ORIGIN_STATE_NM', 'ORIGIN_COUNTRY', 'ORIGIN_COUNTRY_NAME',\n",
    "       'ORIGIN_WAC', 'DEST', 'DEST_CITY_NAME', 'DEST_STATE_ABR',\n",
    "       'DEST_STATE_NM', 'DEST_COUNTRY', 'DEST_COUNTRY_NAME',\n",
    "       'DEST_WAC', 'YEAR', 'QUARTER', 'MONTH', 'DISTANCE_GROUP','PASSENGERS', 'DISTANCE', 'CLASS']]\n"
   ]
  },
  {
   "cell_type": "code",
   "execution_count": 5,
   "metadata": {},
   "outputs": [
    {
     "data": {
      "text/plain": [
       "UNIQUE_CARRIER_NAME    235105\n",
       "ORIGIN                 235105\n",
       "ORIGIN_CITY_NAME       235105\n",
       "ORIGIN_STATE_ABR       216096\n",
       "ORIGIN_STATE_NM        216096\n",
       "ORIGIN_COUNTRY         235105\n",
       "ORIGIN_COUNTRY_NAME    235105\n",
       "ORIGIN_WAC             235105\n",
       "DEST                   235105\n",
       "DEST_CITY_NAME         235105\n",
       "DEST_STATE_ABR         216363\n",
       "DEST_STATE_NM          216363\n",
       "DEST_COUNTRY           235105\n",
       "DEST_COUNTRY_NAME      235105\n",
       "DEST_WAC               235105\n",
       "YEAR                   235105\n",
       "QUARTER                235105\n",
       "MONTH                  235105\n",
       "DISTANCE_GROUP         235105\n",
       "PASSENGERS             235105\n",
       "DISTANCE               235105\n",
       "CLASS                  235105\n",
       "flight                 235105\n",
       "dtype: int64"
      ]
     },
     "execution_count": 5,
     "metadata": {},
     "output_type": "execute_result"
    }
   ],
   "source": [
    "#add column to generate flightpath (origin + destination)\n",
    "passdata['flight'] = passdata['ORIGIN']+passdata['DEST']\n",
    "\n",
    "#check counts - the states are off because the dataset has both international and domestic flights. international flights may not have a state.\n",
    "passdata.count()"
   ]
  },
  {
   "cell_type": "code",
   "execution_count": 6,
   "metadata": {},
   "outputs": [],
   "source": [
    "#export data as csv\n",
    "outdata = 'output_data/flightdata.csv'\n",
    "passdata.to_csv(outdata,index=False)"
   ]
  }
 ],
 "metadata": {
  "kernelspec": {
   "display_name": "Python [conda env:PythonData] *",
   "language": "python",
   "name": "conda-env-PythonData-py"
  },
  "language_info": {
   "codemirror_mode": {
    "name": "ipython",
    "version": 3
   },
   "file_extension": ".py",
   "mimetype": "text/x-python",
   "name": "python",
   "nbconvert_exporter": "python",
   "pygments_lexer": "ipython3",
   "version": "3.6.10"
  }
 },
 "nbformat": 4,
 "nbformat_minor": 4
}
