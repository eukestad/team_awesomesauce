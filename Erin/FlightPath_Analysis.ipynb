{
 "cells": [
  {
   "cell_type": "markdown",
   "metadata": {},
   "source": [
    "# Flight Path Analysis\n",
    "This notebook evaluates the origins and destinations of flights in the two periods of: \n",
    "* Jan - July 2019\n",
    "* Jan - July 2020\n",
    "\n",
    "We retrieved monthly data for international and domestic markets from the US Department of Transportation, Bureau of Transporation Statistics. The data has monthly summaries of passengers with origins and destinations of the flights taken each month and is only current through July 2020. For this reason, we limited our analysis to compare only January to July in 2019 and 2020.\n",
    "\n",
    "Data Source: [Air Carriers: T-100 Market (All Carriers) from the Bureau of Transportation Statistics, US Department of Transporation](https://www.transtats.bts.gov/Tables.asp?DB_ID=111&DB_Name=Air%20Carrier%20Statistics%20%28Form%2041%20Traffic%29-%20All%20Carriers&DB_Short_Name=Air%20Carriers) \n",
    "\n",
    "\n",
    "In this notebook, we will use the Chi Squared Test and bar charts to evaluate the following hypotheses:\n",
    "\n",
    "**Null Hypothesis** - There is no statistical significance in the difference of flight paths when comparing 2019 flights to 2020 flights. \n",
    "\n",
    "**Alternative Hypothesis** - There is a statistical significance in the difference of flight paths when comparing 2019 flights to 2020 flights. \n",
    "\n",
    "## Summary Analysis\n"
   ]
  },
  {
   "cell_type": "code",
   "execution_count": 1,
   "metadata": {},
   "outputs": [
    {
     "data": {
      "text/html": [
       "<div>\n",
       "<style scoped>\n",
       "    .dataframe tbody tr th:only-of-type {\n",
       "        vertical-align: middle;\n",
       "    }\n",
       "\n",
       "    .dataframe tbody tr th {\n",
       "        vertical-align: top;\n",
       "    }\n",
       "\n",
       "    .dataframe thead th {\n",
       "        text-align: right;\n",
       "    }\n",
       "</style>\n",
       "<table border=\"1\" class=\"dataframe\">\n",
       "  <thead>\n",
       "    <tr style=\"text-align: right;\">\n",
       "      <th></th>\n",
       "      <th>UNIQUE_CARRIER_NAME</th>\n",
       "      <th>ORIGIN</th>\n",
       "      <th>ORIGIN_CITY_NAME</th>\n",
       "      <th>ORIGIN_STATE_ABR</th>\n",
       "      <th>ORIGIN_STATE_NM</th>\n",
       "      <th>ORIGIN_COUNTRY</th>\n",
       "      <th>ORIGIN_COUNTRY_NAME</th>\n",
       "      <th>ORIGIN_WAC</th>\n",
       "      <th>DEST</th>\n",
       "      <th>DEST_CITY_NAME</th>\n",
       "      <th>...</th>\n",
       "      <th>DEST_COUNTRY_NAME</th>\n",
       "      <th>DEST_WAC</th>\n",
       "      <th>YEAR</th>\n",
       "      <th>QUARTER</th>\n",
       "      <th>MONTH</th>\n",
       "      <th>DISTANCE_GROUP</th>\n",
       "      <th>PASSENGERS</th>\n",
       "      <th>DISTANCE</th>\n",
       "      <th>CLASS</th>\n",
       "      <th>flight</th>\n",
       "    </tr>\n",
       "  </thead>\n",
       "  <tbody>\n",
       "    <tr>\n",
       "      <th>0</th>\n",
       "      <td>Southwest Airlines Co.</td>\n",
       "      <td>PBI</td>\n",
       "      <td>West Palm Beach/Palm Beach, FL</td>\n",
       "      <td>FL</td>\n",
       "      <td>Florida</td>\n",
       "      <td>US</td>\n",
       "      <td>United States</td>\n",
       "      <td>33</td>\n",
       "      <td>DAL</td>\n",
       "      <td>Dallas, TX</td>\n",
       "      <td>...</td>\n",
       "      <td>United States</td>\n",
       "      <td>74</td>\n",
       "      <td>2019</td>\n",
       "      <td>2</td>\n",
       "      <td>6</td>\n",
       "      <td>3</td>\n",
       "      <td>0.0</td>\n",
       "      <td>1091.0</td>\n",
       "      <td>F</td>\n",
       "      <td>PBIDAL</td>\n",
       "    </tr>\n",
       "    <tr>\n",
       "      <th>1</th>\n",
       "      <td>Southwest Airlines Co.</td>\n",
       "      <td>PHL</td>\n",
       "      <td>Philadelphia, PA</td>\n",
       "      <td>PA</td>\n",
       "      <td>Pennsylvania</td>\n",
       "      <td>US</td>\n",
       "      <td>United States</td>\n",
       "      <td>23</td>\n",
       "      <td>GEG</td>\n",
       "      <td>Spokane, WA</td>\n",
       "      <td>...</td>\n",
       "      <td>United States</td>\n",
       "      <td>93</td>\n",
       "      <td>2019</td>\n",
       "      <td>2</td>\n",
       "      <td>6</td>\n",
       "      <td>5</td>\n",
       "      <td>0.0</td>\n",
       "      <td>2155.0</td>\n",
       "      <td>F</td>\n",
       "      <td>PHLGEG</td>\n",
       "    </tr>\n",
       "    <tr>\n",
       "      <th>2</th>\n",
       "      <td>Southwest Airlines Co.</td>\n",
       "      <td>PVD</td>\n",
       "      <td>Providence, RI</td>\n",
       "      <td>RI</td>\n",
       "      <td>Rhode Island</td>\n",
       "      <td>US</td>\n",
       "      <td>United States</td>\n",
       "      <td>15</td>\n",
       "      <td>ATL</td>\n",
       "      <td>Atlanta, GA</td>\n",
       "      <td>...</td>\n",
       "      <td>United States</td>\n",
       "      <td>34</td>\n",
       "      <td>2019</td>\n",
       "      <td>2</td>\n",
       "      <td>6</td>\n",
       "      <td>2</td>\n",
       "      <td>0.0</td>\n",
       "      <td>903.0</td>\n",
       "      <td>F</td>\n",
       "      <td>PVDATL</td>\n",
       "    </tr>\n",
       "    <tr>\n",
       "      <th>3</th>\n",
       "      <td>Southwest Airlines Co.</td>\n",
       "      <td>RIC</td>\n",
       "      <td>Richmond, VA</td>\n",
       "      <td>VA</td>\n",
       "      <td>Virginia</td>\n",
       "      <td>US</td>\n",
       "      <td>United States</td>\n",
       "      <td>38</td>\n",
       "      <td>DEN</td>\n",
       "      <td>Denver, CO</td>\n",
       "      <td>...</td>\n",
       "      <td>United States</td>\n",
       "      <td>82</td>\n",
       "      <td>2019</td>\n",
       "      <td>2</td>\n",
       "      <td>6</td>\n",
       "      <td>3</td>\n",
       "      <td>0.0</td>\n",
       "      <td>1482.0</td>\n",
       "      <td>F</td>\n",
       "      <td>RICDEN</td>\n",
       "    </tr>\n",
       "    <tr>\n",
       "      <th>4</th>\n",
       "      <td>Southwest Airlines Co.</td>\n",
       "      <td>RIC</td>\n",
       "      <td>Richmond, VA</td>\n",
       "      <td>VA</td>\n",
       "      <td>Virginia</td>\n",
       "      <td>US</td>\n",
       "      <td>United States</td>\n",
       "      <td>38</td>\n",
       "      <td>LAS</td>\n",
       "      <td>Las Vegas, NV</td>\n",
       "      <td>...</td>\n",
       "      <td>United States</td>\n",
       "      <td>85</td>\n",
       "      <td>2019</td>\n",
       "      <td>2</td>\n",
       "      <td>6</td>\n",
       "      <td>5</td>\n",
       "      <td>0.0</td>\n",
       "      <td>2086.0</td>\n",
       "      <td>F</td>\n",
       "      <td>RICLAS</td>\n",
       "    </tr>\n",
       "    <tr>\n",
       "      <th>5</th>\n",
       "      <td>Southwest Airlines Co.</td>\n",
       "      <td>RNO</td>\n",
       "      <td>Reno, NV</td>\n",
       "      <td>NV</td>\n",
       "      <td>Nevada</td>\n",
       "      <td>US</td>\n",
       "      <td>United States</td>\n",
       "      <td>85</td>\n",
       "      <td>PHL</td>\n",
       "      <td>Philadelphia, PA</td>\n",
       "      <td>...</td>\n",
       "      <td>United States</td>\n",
       "      <td>23</td>\n",
       "      <td>2019</td>\n",
       "      <td>2</td>\n",
       "      <td>6</td>\n",
       "      <td>5</td>\n",
       "      <td>0.0</td>\n",
       "      <td>2348.0</td>\n",
       "      <td>F</td>\n",
       "      <td>RNOPHL</td>\n",
       "    </tr>\n",
       "    <tr>\n",
       "      <th>6</th>\n",
       "      <td>Southwest Airlines Co.</td>\n",
       "      <td>RSW</td>\n",
       "      <td>Fort Myers, FL</td>\n",
       "      <td>FL</td>\n",
       "      <td>Florida</td>\n",
       "      <td>US</td>\n",
       "      <td>United States</td>\n",
       "      <td>33</td>\n",
       "      <td>HOU</td>\n",
       "      <td>Houston, TX</td>\n",
       "      <td>...</td>\n",
       "      <td>United States</td>\n",
       "      <td>74</td>\n",
       "      <td>2019</td>\n",
       "      <td>2</td>\n",
       "      <td>6</td>\n",
       "      <td>2</td>\n",
       "      <td>0.0</td>\n",
       "      <td>853.0</td>\n",
       "      <td>F</td>\n",
       "      <td>RSWHOU</td>\n",
       "    </tr>\n",
       "    <tr>\n",
       "      <th>7</th>\n",
       "      <td>Southwest Airlines Co.</td>\n",
       "      <td>LAX</td>\n",
       "      <td>Los Angeles, CA</td>\n",
       "      <td>CA</td>\n",
       "      <td>California</td>\n",
       "      <td>US</td>\n",
       "      <td>United States</td>\n",
       "      <td>91</td>\n",
       "      <td>SJU</td>\n",
       "      <td>San Juan, PR</td>\n",
       "      <td>...</td>\n",
       "      <td>United States</td>\n",
       "      <td>3</td>\n",
       "      <td>2019</td>\n",
       "      <td>3</td>\n",
       "      <td>7</td>\n",
       "      <td>7</td>\n",
       "      <td>0.0</td>\n",
       "      <td>3386.0</td>\n",
       "      <td>F</td>\n",
       "      <td>LAXSJU</td>\n",
       "    </tr>\n",
       "    <tr>\n",
       "      <th>8</th>\n",
       "      <td>Southwest Airlines Co.</td>\n",
       "      <td>MKE</td>\n",
       "      <td>Milwaukee, WI</td>\n",
       "      <td>WI</td>\n",
       "      <td>Wisconsin</td>\n",
       "      <td>US</td>\n",
       "      <td>United States</td>\n",
       "      <td>45</td>\n",
       "      <td>BOI</td>\n",
       "      <td>Boise, ID</td>\n",
       "      <td>...</td>\n",
       "      <td>United States</td>\n",
       "      <td>83</td>\n",
       "      <td>2019</td>\n",
       "      <td>3</td>\n",
       "      <td>7</td>\n",
       "      <td>3</td>\n",
       "      <td>0.0</td>\n",
       "      <td>1423.0</td>\n",
       "      <td>F</td>\n",
       "      <td>MKEBOI</td>\n",
       "    </tr>\n",
       "    <tr>\n",
       "      <th>9</th>\n",
       "      <td>Southwest Airlines Co.</td>\n",
       "      <td>OAK</td>\n",
       "      <td>Oakland, CA</td>\n",
       "      <td>CA</td>\n",
       "      <td>California</td>\n",
       "      <td>US</td>\n",
       "      <td>United States</td>\n",
       "      <td>91</td>\n",
       "      <td>AMA</td>\n",
       "      <td>Amarillo, TX</td>\n",
       "      <td>...</td>\n",
       "      <td>United States</td>\n",
       "      <td>74</td>\n",
       "      <td>2019</td>\n",
       "      <td>3</td>\n",
       "      <td>7</td>\n",
       "      <td>3</td>\n",
       "      <td>0.0</td>\n",
       "      <td>1153.0</td>\n",
       "      <td>F</td>\n",
       "      <td>OAKAMA</td>\n",
       "    </tr>\n",
       "  </tbody>\n",
       "</table>\n",
       "<p>10 rows × 23 columns</p>\n",
       "</div>"
      ],
      "text/plain": [
       "      UNIQUE_CARRIER_NAME ORIGIN                ORIGIN_CITY_NAME  \\\n",
       "0  Southwest Airlines Co.    PBI  West Palm Beach/Palm Beach, FL   \n",
       "1  Southwest Airlines Co.    PHL                Philadelphia, PA   \n",
       "2  Southwest Airlines Co.    PVD                  Providence, RI   \n",
       "3  Southwest Airlines Co.    RIC                    Richmond, VA   \n",
       "4  Southwest Airlines Co.    RIC                    Richmond, VA   \n",
       "5  Southwest Airlines Co.    RNO                        Reno, NV   \n",
       "6  Southwest Airlines Co.    RSW                  Fort Myers, FL   \n",
       "7  Southwest Airlines Co.    LAX                 Los Angeles, CA   \n",
       "8  Southwest Airlines Co.    MKE                   Milwaukee, WI   \n",
       "9  Southwest Airlines Co.    OAK                     Oakland, CA   \n",
       "\n",
       "  ORIGIN_STATE_ABR ORIGIN_STATE_NM ORIGIN_COUNTRY ORIGIN_COUNTRY_NAME  \\\n",
       "0               FL         Florida             US       United States   \n",
       "1               PA    Pennsylvania             US       United States   \n",
       "2               RI    Rhode Island             US       United States   \n",
       "3               VA        Virginia             US       United States   \n",
       "4               VA        Virginia             US       United States   \n",
       "5               NV          Nevada             US       United States   \n",
       "6               FL         Florida             US       United States   \n",
       "7               CA      California             US       United States   \n",
       "8               WI       Wisconsin             US       United States   \n",
       "9               CA      California             US       United States   \n",
       "\n",
       "   ORIGIN_WAC DEST    DEST_CITY_NAME  ... DEST_COUNTRY_NAME DEST_WAC  YEAR  \\\n",
       "0          33  DAL        Dallas, TX  ...     United States       74  2019   \n",
       "1          23  GEG       Spokane, WA  ...     United States       93  2019   \n",
       "2          15  ATL       Atlanta, GA  ...     United States       34  2019   \n",
       "3          38  DEN        Denver, CO  ...     United States       82  2019   \n",
       "4          38  LAS     Las Vegas, NV  ...     United States       85  2019   \n",
       "5          85  PHL  Philadelphia, PA  ...     United States       23  2019   \n",
       "6          33  HOU       Houston, TX  ...     United States       74  2019   \n",
       "7          91  SJU      San Juan, PR  ...     United States        3  2019   \n",
       "8          45  BOI         Boise, ID  ...     United States       83  2019   \n",
       "9          91  AMA      Amarillo, TX  ...     United States       74  2019   \n",
       "\n",
       "  QUARTER  MONTH  DISTANCE_GROUP  PASSENGERS  DISTANCE  CLASS  flight  \n",
       "0       2      6               3         0.0    1091.0      F  PBIDAL  \n",
       "1       2      6               5         0.0    2155.0      F  PHLGEG  \n",
       "2       2      6               2         0.0     903.0      F  PVDATL  \n",
       "3       2      6               3         0.0    1482.0      F  RICDEN  \n",
       "4       2      6               5         0.0    2086.0      F  RICLAS  \n",
       "5       2      6               5         0.0    2348.0      F  RNOPHL  \n",
       "6       2      6               2         0.0     853.0      F  RSWHOU  \n",
       "7       3      7               7         0.0    3386.0      F  LAXSJU  \n",
       "8       3      7               3         0.0    1423.0      F  MKEBOI  \n",
       "9       3      7               3         0.0    1153.0      F  OAKAMA  \n",
       "\n",
       "[10 rows x 23 columns]"
      ]
     },
     "execution_count": 1,
     "metadata": {},
     "output_type": "execute_result"
    }
   ],
   "source": [
    "#import dependencies\n",
    "\n",
    "import matplotlib.pyplot as plt\n",
    "import pandas as pd\n",
    "import scipy.stats as st\n",
    "import numpy as np\n",
    "from scipy.stats import sem\n",
    "from scipy.stats import linregress\n",
    "\n",
    "#get data\n",
    "flightdata = pd.read_csv('output_data/flightdata.csv')\n",
    "flightdata.head(10)"
   ]
  },
  {
   "cell_type": "markdown",
   "metadata": {},
   "source": [
    "## Percent Change in Passengers on Flights from 2019 to 2020"
   ]
  },
  {
   "cell_type": "code",
   "execution_count": 97,
   "metadata": {},
   "outputs": [],
   "source": [
    "flightchangesgrp = flightdata.groupby(['flight','YEAR'], as_index = False).agg({'PASSENGERS':'sum'})\n",
    "flightchanges = pd.DataFrame(flightchangesgrp.pivot(index='flight', columns='YEAR', values='PASSENGERS').fillna(0))\n",
    "# flightchanges['delta'] = round(flightchanges.pct_change(axis=1).iloc[:, -1].mul(100).fillna(0),2)\n",
    "flightchanges['% Δ'] = flightchanges.pct_change(axis='columns').iloc[:, -1]\n",
    "\n",
    "#check for NaN values\n",
    "# flightchanges.sort_values(by =['% Δ'])\n",
    "\n",
    "#check for inifinity values\n",
    "# flightchanges.loc[(flightchanges['% Δ']==float(\"inf\")),:]"
   ]
  },
  {
   "cell_type": "code",
   "execution_count": 93,
   "metadata": {},
   "outputs": [
    {
     "data": {
      "text/plain": [
       "[Text(0, 0, '< -100% Δ'),\n",
       " Text(0, 0, '-76 to -100% Δ'),\n",
       " Text(0, 0, '-51 to -75% Δ'),\n",
       " Text(0, 0, '-26 to -50% Δ'),\n",
       " Text(0, 0, '-1 to -25% Δ'),\n",
       " Text(0, 0, 'No Δ'),\n",
       " Text(0, 0, '1 to 100% Δ'),\n",
       " Text(0, 0, '> 100% Δ')]"
      ]
     },
     "execution_count": 93,
     "metadata": {},
     "output_type": "execute_result"
    },
    {
     "data": {
      "image/png": "[encoded data removed]",
      "text/plain": [
       "<Figure size 1080x360 with 1 Axes>"
      ]
     },
     "metadata": {
      "needs_background": "light"
     },
     "output_type": "display_data"
    }
   ],
   "source": [
    "binlabels = ['< -100% Δ', '-76 to -100% Δ', '-51 to -75% Δ', '-26 to -50% Δ', '-1 to -25% Δ','No Δ','1 to 100% Δ', '> 100% Δ']\n",
    "cut_bins = [-float(\"inf\"),-1,-0.75,-0.5,-0.25,-0.01,0.01,1,float(\"inf\")]\n",
    "                                   \n",
    "flightchanges['Δ Category'] = pd.cut(flightchanges['% Δ'], bins=cut_bins, labels=binlabels)\n",
    "\n",
    "summarychangesgrp = flightchanges.groupby('Δ Category').agg({'% Δ':'count'}) \n",
    "\n",
    "summary_changes_bar = summarychangesgrp.plot.bar(figsize=(15,5), alpha=0.5, align=\"center\", title=\"Percent Change in Passengers on Flights from 2019 to 2020\")\n",
    "summary_changes_bar.set_xticklabels(summarychangesgrp.index, rotation=0)"
   ]
  },
  {
   "cell_type": "markdown",
   "metadata": {},
   "source": [
    "### Analysis\n",
    "We can see that the majority of flights saw a substantial decrease in passengers. However, there were a large number of passengers on new flights."
   ]
  },
  {
   "cell_type": "code",
   "execution_count": null,
   "metadata": {},
   "outputs": [],
   "source": [
    "#get flight that had the most passengers in 2019 and saw a greater than 100% decrease and plot as line charts with pct_change over months for 2019 and 2020\n"
   ]
  },
  {
   "cell_type": "markdown",
   "metadata": {},
   "source": [
    "## Review of all flights by Origin and Destination"
   ]
  },
  {
   "cell_type": "code",
   "execution_count": 2,
   "metadata": {},
   "outputs": [],
   "source": [
    "passengers_by_flight = flightdata.groupby(['YEAR','flight'], as_index = False).agg({'PASSENGERS':'sum'})\n",
    "passengers_by_flight.sort_values(by=['YEAR','PASSENGERS'], ascending=False)\n",
    "\n",
    "flights2020 = pd.DataFrame(passengers_by_flight.loc[passengers_by_flight['YEAR']==2020,:])\n",
    "top20flights_2020 = flights2020.sort_values(by=['YEAR','PASSENGERS'], ascending=False).head(20)\n",
    "\n",
    "flights2019 = pd.DataFrame(passengers_by_flight.loc[passengers_by_flight['YEAR']==2019,:])\n",
    "top20flights_2019 = flights2019.sort_values(by=['YEAR','PASSENGERS'], ascending=False).head(20)\n",
    "\n"
   ]
  },
  {
   "cell_type": "markdown",
   "metadata": {},
   "source": [
    "### Chi Squared Test for Top 20 flights in 2020"
   ]
  },
  {
   "cell_type": "code",
   "execution_count": 3,
   "metadata": {},
   "outputs": [
    {
     "name": "stdout",
     "output_type": "stream",
     "text": [
      "19 349777.0\n",
      "the critical value is 30.14352720564616\n"
     ]
    },
    {
     "data": {
      "text/plain": [
       "Power_divergenceResult(statistic=50103.73374750198, pvalue=0.0)"
      ]
     },
     "execution_count": 3,
     "metadata": {},
     "output_type": "execute_result"
    }
   ],
   "source": [
    "df = len(top20flights_2020)-1\n",
    "q=0.95\n",
    "\n",
    "top20flights_2020['expected'] = round(top20flights_2020['PASSENGERS'].mean(),0)\n",
    "\n",
    "print(df,round(top20flights_2020['PASSENGERS'].mean(),0))\n",
    "\n",
    "#critical value\n",
    "critical_value = st.chi2.ppf(q=q,df=df)\n",
    "print(f'the critical value is {critical_value}')\n",
    "\n",
    "st.chisquare(top20flights_2020['PASSENGERS'],top20flights_2020['expected'])\n"
   ]
  },
  {
   "cell_type": "markdown",
   "metadata": {},
   "source": [
    "### Chi Squared Test for Top 20 flights in 2019"
   ]
  },
  {
   "cell_type": "code",
   "execution_count": 4,
   "metadata": {},
   "outputs": [
    {
     "name": "stdout",
     "output_type": "stream",
     "text": [
      "19 870701.0\n",
      "the critical value is 30.14352720564616\n"
     ]
    },
    {
     "data": {
      "text/plain": [
       "Power_divergenceResult(statistic=262415.12716765003, pvalue=0.0)"
      ]
     },
     "execution_count": 4,
     "metadata": {},
     "output_type": "execute_result"
    }
   ],
   "source": [
    "df = len(top20flights_2019)-1\n",
    "q=0.95\n",
    "\n",
    "top20flights_2019['expected'] = round(top20flights_2019['PASSENGERS'].mean(),0)\n",
    "\n",
    "print(df,round(top20flights_2019['PASSENGERS'].mean(),0))\n",
    "\n",
    "#critical value\n",
    "critical_value = st.chi2.ppf(q=q,df=df)\n",
    "print(f'the critical value is {critical_value}')\n",
    "\n",
    "st.chisquare(top20flights_2019['PASSENGERS'],top20flights_2019['expected'])\n"
   ]
  },
  {
   "cell_type": "markdown",
   "metadata": {},
   "source": [
    "## Review of all flights by Origin and Destination (US States)"
   ]
  },
  {
   "cell_type": "code",
   "execution_count": 5,
   "metadata": {},
   "outputs": [],
   "source": [
    "#passengers by state\n",
    "passengers_by_state = flightdata.groupby(['YEAR','ORIGIN_STATE_NM'], as_index = False).agg({'PASSENGERS':'sum'})\n",
    "passengers_by_state.sort_values(by=['YEAR','PASSENGERS'], ascending=False).head(20)\n",
    "\n",
    "stateflights2020 = pd.DataFrame(passengers_by_state.loc[passengers_by_state['YEAR']==2020,:])\n",
    "top20states_2020 = stateflights2020.sort_values(by=['YEAR','PASSENGERS'], ascending=False).head(20)\n",
    "\n",
    "stateflights2019 = pd.DataFrame(passengers_by_state.loc[passengers_by_state['YEAR']==2019,:])\n",
    "top20states_2019 = stateflights2019.sort_values(by=['YEAR','PASSENGERS'], ascending=False).head(20)"
   ]
  },
  {
   "cell_type": "markdown",
   "metadata": {},
   "source": [
    "### Chi Squared Test for Top 20 flights in 2020"
   ]
  },
  {
   "cell_type": "code",
   "execution_count": 6,
   "metadata": {},
   "outputs": [
    {
     "name": "stdout",
     "output_type": "stream",
     "text": [
      "19 9853062.0\n",
      "the critical value is 30.14352720564616\n"
     ]
    },
    {
     "data": {
      "text/plain": [
       "Power_divergenceResult(statistic=110591873.69335493, pvalue=0.0)"
      ]
     },
     "execution_count": 6,
     "metadata": {},
     "output_type": "execute_result"
    }
   ],
   "source": [
    "df = len(top20states_2020)-1\n",
    "q=0.95\n",
    "\n",
    "top20states_2020['expected'] = round(top20states_2020['PASSENGERS'].mean(),0)\n",
    "\n",
    "print(df,round(top20states_2020['PASSENGERS'].mean(),0))\n",
    "\n",
    "#critical value\n",
    "critical_value = st.chi2.ppf(q=q,df=df)\n",
    "print(f'the critical value is {critical_value}')\n",
    "\n",
    "st.chisquare(top20states_2020['PASSENGERS'],top20states_2020['expected'])\n"
   ]
  },
  {
   "cell_type": "markdown",
   "metadata": {},
   "source": [
    "### Chi Squared Test for Top 20 flights in 2019"
   ]
  },
  {
   "cell_type": "code",
   "execution_count": 7,
   "metadata": {},
   "outputs": [
    {
     "name": "stdout",
     "output_type": "stream",
     "text": [
      "19 23374192.0\n",
      "the critical value is 30.14352720564616\n"
     ]
    },
    {
     "data": {
      "text/plain": [
       "Power_divergenceResult(statistic=253779885.33529663, pvalue=0.0)"
      ]
     },
     "execution_count": 7,
     "metadata": {},
     "output_type": "execute_result"
    }
   ],
   "source": [
    "df = len(top20states_2019)-1\n",
    "q=0.95\n",
    "\n",
    "top20states_2019['expected'] = round(top20states_2019['PASSENGERS'].mean(),0)\n",
    "\n",
    "print(df,round(top20states_2019['PASSENGERS'].mean(),0))\n",
    "\n",
    "#critical value\n",
    "critical_value = st.chi2.ppf(q=q,df=df)\n",
    "print(f'the critical value is {critical_value}')\n",
    "\n",
    "st.chisquare(top20states_2019['PASSENGERS'],top20states_2019['expected'])\n"
   ]
  }
 ],
 "metadata": {
  "kernelspec": {
   "display_name": "Python [conda env:PythonData] *",
   "language": "python",
   "name": "conda-env-PythonData-py"
  },
  "language_info": {
   "codemirror_mode": {
    "name": "ipython",
    "version": 3
   },
   "file_extension": ".py",
   "mimetype": "text/x-python",
   "name": "python",
   "nbconvert_exporter": "python",
   "pygments_lexer": "ipython3",
   "version": "3.6.10"
  }
 },
 "nbformat": 4,
 "nbformat_minor": 4
}
