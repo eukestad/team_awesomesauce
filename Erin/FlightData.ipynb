{
 "cells": [
  {
   "cell_type": "code",
   "execution_count": 1,
   "metadata": {},
   "outputs": [],
   "source": [
    "import matplotlib.pyplot as plt\n",
    "import pandas as pd\n",
    "import scipy.stats as st\n",
    "import numpy as np\n",
    "from scipy.stats import sem\n",
    "from scipy.stats import linregress"
   ]
  },
  {
   "cell_type": "code",
   "execution_count": 2,
   "metadata": {},
   "outputs": [
    {
     "data": {
      "text/plain": [
       "Index(['PASSENGERS', 'FREIGHT', 'MAIL', 'DISTANCE', 'UNIQUE_CARRIER',\n",
       "       'AIRLINE_ID', 'UNIQUE_CARRIER_NAME', 'UNIQUE_CARRIER_ENTITY', 'REGION',\n",
       "       'CARRIER', 'CARRIER_NAME', 'CARRIER_GROUP', 'CARRIER_GROUP_NEW',\n",
       "       'ORIGIN_AIRPORT_ID', 'ORIGIN_AIRPORT_SEQ_ID', 'ORIGIN_CITY_MARKET_ID',\n",
       "       'ORIGIN', 'ORIGIN_CITY_NAME', 'ORIGIN_STATE_ABR', 'ORIGIN_STATE_FIPS',\n",
       "       'ORIGIN_STATE_NM', 'ORIGIN_COUNTRY', 'ORIGIN_COUNTRY_NAME',\n",
       "       'ORIGIN_WAC', 'DEST_AIRPORT_ID', 'DEST_AIRPORT_SEQ_ID',\n",
       "       'DEST_CITY_MARKET_ID', 'DEST', 'DEST_CITY_NAME', 'DEST_STATE_ABR',\n",
       "       'DEST_STATE_FIPS', 'DEST_STATE_NM', 'DEST_COUNTRY', 'DEST_COUNTRY_NAME',\n",
       "       'DEST_WAC', 'YEAR', 'QUARTER', 'MONTH', 'DISTANCE_GROUP', 'CLASS',\n",
       "       'DATA_SOURCE', 'Unnamed: 41'],\n",
       "      dtype='object')"
      ]
     },
     "execution_count": 2,
     "metadata": {},
     "output_type": "execute_result"
    }
   ],
   "source": [
    "#get data\n",
    "\n",
    "file2019 = \"399417274_T_T100_MARKET_ALL_CARRIER.csv\"\n",
    "file2020 = \"399417274_T_T100_MARKET_ALL_CARRIER2.csv\"\n",
    "\n",
    "data2019 = pd.read_csv(file2019)\n",
    "data2020 = pd.read_csv(file2020)\n",
    "\n",
    "df_list = [data2019,data2020]\n",
    "\n",
    "alldata = pd.concat(df_list)\n",
    "alldata.columns"
   ]
  },
  {
   "cell_type": "raw",
   "metadata": {},
   "source": [
    "Class Types:\n",
    "Code,Description\n",
    "A,\"Scheduled First Class Passenger/ Cargo Service A\"\n",
    "C,\"Scheduled Coach Passenger/ Cargo Service C\"\n",
    "E,\"Scheduled Mixed First Class And Coach, Passenger/ Cargo Service E\"\n",
    "F,\"Scheduled Passenger/ Cargo Service F\"\n",
    "G,\"Scheduled All Cargo Service G\"\n",
    "H,\"Humane Reason Unscheduled, Non-Revenue-Generating\"\n",
    "K,\"Scheduled Service K (F+G)\"\n",
    "L,\"Non-Scheduled Civilian Passenger/ Cargo Service L\"\n",
    "N,\"Non-Scheduled Military Passenger/ Cargo Service N\"\n",
    "P,\"Non-Scheduled Civilian All Cargo Service P\"\n",
    "Q,\"Non-Scheduled Services (Other Than Charter) Q\"\n",
    "R,\"Non-Scheduled Military All Cargo R\"\n",
    "V,\"Non-Scheduled Service V (L+N+P+R) For U.S. Carrier And (L+P+Q) For Foreign Carrier\"\n",
    "Z,\"All Service Z (K+V)\"\n"
   ]
  },
  {
   "cell_type": "code",
   "execution_count": 3,
   "metadata": {},
   "outputs": [],
   "source": [
    "flightclass = ['A','C','E','F']\n",
    "\n",
    "passdata = alldata.loc[(alldata['CLASS'] =='A') | (alldata['CLASS'] =='C') | (alldata['CLASS'] =='E') | (alldata['CLASS'] =='F')  ,:]"
   ]
  },
  {
   "cell_type": "code",
   "execution_count": 4,
   "metadata": {},
   "outputs": [
    {
     "data": {
      "text/html": [
       "<div>\n",
       "<style scoped>\n",
       "    .dataframe tbody tr th:only-of-type {\n",
       "        vertical-align: middle;\n",
       "    }\n",
       "\n",
       "    .dataframe tbody tr th {\n",
       "        vertical-align: top;\n",
       "    }\n",
       "\n",
       "    .dataframe thead th {\n",
       "        text-align: right;\n",
       "    }\n",
       "</style>\n",
       "<table border=\"1\" class=\"dataframe\">\n",
       "  <thead>\n",
       "    <tr style=\"text-align: right;\">\n",
       "      <th></th>\n",
       "      <th>UNIQUE_CARRIER_NAME</th>\n",
       "      <th>ORIGIN</th>\n",
       "      <th>ORIGIN_CITY_NAME</th>\n",
       "      <th>ORIGIN_STATE_ABR</th>\n",
       "      <th>ORIGIN_STATE_NM</th>\n",
       "      <th>ORIGIN_COUNTRY</th>\n",
       "      <th>ORIGIN_COUNTRY_NAME</th>\n",
       "      <th>ORIGIN_WAC</th>\n",
       "      <th>DEST</th>\n",
       "      <th>DEST_CITY_NAME</th>\n",
       "      <th>...</th>\n",
       "      <th>DEST_COUNTRY</th>\n",
       "      <th>DEST_COUNTRY_NAME</th>\n",
       "      <th>DEST_WAC</th>\n",
       "      <th>YEAR</th>\n",
       "      <th>QUARTER</th>\n",
       "      <th>MONTH</th>\n",
       "      <th>DISTANCE_GROUP</th>\n",
       "      <th>PASSENGERS</th>\n",
       "      <th>DISTANCE</th>\n",
       "      <th>CLASS</th>\n",
       "    </tr>\n",
       "  </thead>\n",
       "  <tbody>\n",
       "    <tr>\n",
       "      <th>0</th>\n",
       "      <td>Southwest Airlines Co.</td>\n",
       "      <td>PBI</td>\n",
       "      <td>West Palm Beach/Palm Beach, FL</td>\n",
       "      <td>FL</td>\n",
       "      <td>Florida</td>\n",
       "      <td>US</td>\n",
       "      <td>United States</td>\n",
       "      <td>33</td>\n",
       "      <td>DAL</td>\n",
       "      <td>Dallas, TX</td>\n",
       "      <td>...</td>\n",
       "      <td>US</td>\n",
       "      <td>United States</td>\n",
       "      <td>74</td>\n",
       "      <td>2019</td>\n",
       "      <td>2</td>\n",
       "      <td>6</td>\n",
       "      <td>3</td>\n",
       "      <td>0.0</td>\n",
       "      <td>1091.0</td>\n",
       "      <td>F</td>\n",
       "    </tr>\n",
       "    <tr>\n",
       "      <th>1</th>\n",
       "      <td>Southwest Airlines Co.</td>\n",
       "      <td>PHL</td>\n",
       "      <td>Philadelphia, PA</td>\n",
       "      <td>PA</td>\n",
       "      <td>Pennsylvania</td>\n",
       "      <td>US</td>\n",
       "      <td>United States</td>\n",
       "      <td>23</td>\n",
       "      <td>GEG</td>\n",
       "      <td>Spokane, WA</td>\n",
       "      <td>...</td>\n",
       "      <td>US</td>\n",
       "      <td>United States</td>\n",
       "      <td>93</td>\n",
       "      <td>2019</td>\n",
       "      <td>2</td>\n",
       "      <td>6</td>\n",
       "      <td>5</td>\n",
       "      <td>0.0</td>\n",
       "      <td>2155.0</td>\n",
       "      <td>F</td>\n",
       "    </tr>\n",
       "    <tr>\n",
       "      <th>2</th>\n",
       "      <td>Southwest Airlines Co.</td>\n",
       "      <td>PVD</td>\n",
       "      <td>Providence, RI</td>\n",
       "      <td>RI</td>\n",
       "      <td>Rhode Island</td>\n",
       "      <td>US</td>\n",
       "      <td>United States</td>\n",
       "      <td>15</td>\n",
       "      <td>ATL</td>\n",
       "      <td>Atlanta, GA</td>\n",
       "      <td>...</td>\n",
       "      <td>US</td>\n",
       "      <td>United States</td>\n",
       "      <td>34</td>\n",
       "      <td>2019</td>\n",
       "      <td>2</td>\n",
       "      <td>6</td>\n",
       "      <td>2</td>\n",
       "      <td>0.0</td>\n",
       "      <td>903.0</td>\n",
       "      <td>F</td>\n",
       "    </tr>\n",
       "    <tr>\n",
       "      <th>3</th>\n",
       "      <td>Southwest Airlines Co.</td>\n",
       "      <td>RIC</td>\n",
       "      <td>Richmond, VA</td>\n",
       "      <td>VA</td>\n",
       "      <td>Virginia</td>\n",
       "      <td>US</td>\n",
       "      <td>United States</td>\n",
       "      <td>38</td>\n",
       "      <td>DEN</td>\n",
       "      <td>Denver, CO</td>\n",
       "      <td>...</td>\n",
       "      <td>US</td>\n",
       "      <td>United States</td>\n",
       "      <td>82</td>\n",
       "      <td>2019</td>\n",
       "      <td>2</td>\n",
       "      <td>6</td>\n",
       "      <td>3</td>\n",
       "      <td>0.0</td>\n",
       "      <td>1482.0</td>\n",
       "      <td>F</td>\n",
       "    </tr>\n",
       "    <tr>\n",
       "      <th>4</th>\n",
       "      <td>Southwest Airlines Co.</td>\n",
       "      <td>RIC</td>\n",
       "      <td>Richmond, VA</td>\n",
       "      <td>VA</td>\n",
       "      <td>Virginia</td>\n",
       "      <td>US</td>\n",
       "      <td>United States</td>\n",
       "      <td>38</td>\n",
       "      <td>LAS</td>\n",
       "      <td>Las Vegas, NV</td>\n",
       "      <td>...</td>\n",
       "      <td>US</td>\n",
       "      <td>United States</td>\n",
       "      <td>85</td>\n",
       "      <td>2019</td>\n",
       "      <td>2</td>\n",
       "      <td>6</td>\n",
       "      <td>5</td>\n",
       "      <td>0.0</td>\n",
       "      <td>2086.0</td>\n",
       "      <td>F</td>\n",
       "    </tr>\n",
       "  </tbody>\n",
       "</table>\n",
       "<p>5 rows × 22 columns</p>\n",
       "</div>"
      ],
      "text/plain": [
       "      UNIQUE_CARRIER_NAME ORIGIN                ORIGIN_CITY_NAME  \\\n",
       "0  Southwest Airlines Co.    PBI  West Palm Beach/Palm Beach, FL   \n",
       "1  Southwest Airlines Co.    PHL                Philadelphia, PA   \n",
       "2  Southwest Airlines Co.    PVD                  Providence, RI   \n",
       "3  Southwest Airlines Co.    RIC                    Richmond, VA   \n",
       "4  Southwest Airlines Co.    RIC                    Richmond, VA   \n",
       "\n",
       "  ORIGIN_STATE_ABR ORIGIN_STATE_NM ORIGIN_COUNTRY ORIGIN_COUNTRY_NAME  \\\n",
       "0               FL         Florida             US       United States   \n",
       "1               PA    Pennsylvania             US       United States   \n",
       "2               RI    Rhode Island             US       United States   \n",
       "3               VA        Virginia             US       United States   \n",
       "4               VA        Virginia             US       United States   \n",
       "\n",
       "   ORIGIN_WAC DEST DEST_CITY_NAME  ... DEST_COUNTRY DEST_COUNTRY_NAME  \\\n",
       "0          33  DAL     Dallas, TX  ...           US     United States   \n",
       "1          23  GEG    Spokane, WA  ...           US     United States   \n",
       "2          15  ATL    Atlanta, GA  ...           US     United States   \n",
       "3          38  DEN     Denver, CO  ...           US     United States   \n",
       "4          38  LAS  Las Vegas, NV  ...           US     United States   \n",
       "\n",
       "  DEST_WAC  YEAR  QUARTER  MONTH  DISTANCE_GROUP  PASSENGERS  DISTANCE  CLASS  \n",
       "0       74  2019        2      6               3         0.0    1091.0      F  \n",
       "1       93  2019        2      6               5         0.0    2155.0      F  \n",
       "2       34  2019        2      6               2         0.0     903.0      F  \n",
       "3       82  2019        2      6               3         0.0    1482.0      F  \n",
       "4       85  2019        2      6               5         0.0    2086.0      F  \n",
       "\n",
       "[5 rows x 22 columns]"
      ]
     },
     "execution_count": 4,
     "metadata": {},
     "output_type": "execute_result"
    }
   ],
   "source": [
    "passdata = passdata[['UNIQUE_CARRIER_NAME', 'ORIGIN', 'ORIGIN_CITY_NAME', 'ORIGIN_STATE_ABR',\n",
    "       'ORIGIN_STATE_NM', 'ORIGIN_COUNTRY', 'ORIGIN_COUNTRY_NAME',\n",
    "       'ORIGIN_WAC', 'DEST', 'DEST_CITY_NAME', 'DEST_STATE_ABR',\n",
    "       'DEST_STATE_NM', 'DEST_COUNTRY', 'DEST_COUNTRY_NAME',\n",
    "       'DEST_WAC', 'YEAR', 'QUARTER', 'MONTH', 'DISTANCE_GROUP','PASSENGERS', 'DISTANCE', 'CLASS']]\n",
    "passdata.head()"
   ]
  },
  {
   "cell_type": "code",
   "execution_count": 5,
   "metadata": {},
   "outputs": [],
   "source": [
    "saorigin = passdata.loc[passdata[\"ORIGIN\"]=='SAT',:]\n",
    "sadestination = passdata.loc[passdata[\"DEST\"]=='SAT',:]"
   ]
  },
  {
   "cell_type": "code",
   "execution_count": 6,
   "metadata": {},
   "outputs": [
    {
     "data": {
      "text/plain": [
       "2019    1422\n",
       "2020     522\n",
       "Name: YEAR, dtype: int64"
      ]
     },
     "execution_count": 6,
     "metadata": {},
     "output_type": "execute_result"
    }
   ],
   "source": [
    "saorigin['YEAR'].value_counts()"
   ]
  },
  {
   "cell_type": "code",
   "execution_count": 7,
   "metadata": {},
   "outputs": [
    {
     "data": {
      "text/html": [
       "<div>\n",
       "<style scoped>\n",
       "    .dataframe tbody tr th:only-of-type {\n",
       "        vertical-align: middle;\n",
       "    }\n",
       "\n",
       "    .dataframe tbody tr th {\n",
       "        vertical-align: top;\n",
       "    }\n",
       "\n",
       "    .dataframe thead tr th {\n",
       "        text-align: left;\n",
       "    }\n",
       "\n",
       "    .dataframe thead tr:last-of-type th {\n",
       "        text-align: right;\n",
       "    }\n",
       "</style>\n",
       "<table border=\"1\" class=\"dataframe\">\n",
       "  <thead>\n",
       "    <tr>\n",
       "      <th></th>\n",
       "      <th></th>\n",
       "      <th></th>\n",
       "      <th></th>\n",
       "      <th colspan=\"6\" halign=\"left\">PASSENGERS</th>\n",
       "      <th colspan=\"6\" halign=\"left\">DISTANCE</th>\n",
       "    </tr>\n",
       "    <tr>\n",
       "      <th></th>\n",
       "      <th></th>\n",
       "      <th></th>\n",
       "      <th></th>\n",
       "      <th>count</th>\n",
       "      <th>min</th>\n",
       "      <th>max</th>\n",
       "      <th>sum</th>\n",
       "      <th>std</th>\n",
       "      <th>var</th>\n",
       "      <th>count</th>\n",
       "      <th>min</th>\n",
       "      <th>max</th>\n",
       "      <th>sum</th>\n",
       "      <th>std</th>\n",
       "      <th>var</th>\n",
       "    </tr>\n",
       "    <tr>\n",
       "      <th>YEAR</th>\n",
       "      <th>QUARTER</th>\n",
       "      <th>MONTH</th>\n",
       "      <th>DEST_COUNTRY_NAME</th>\n",
       "      <th></th>\n",
       "      <th></th>\n",
       "      <th></th>\n",
       "      <th></th>\n",
       "      <th></th>\n",
       "      <th></th>\n",
       "      <th></th>\n",
       "      <th></th>\n",
       "      <th></th>\n",
       "      <th></th>\n",
       "      <th></th>\n",
       "      <th></th>\n",
       "    </tr>\n",
       "  </thead>\n",
       "  <tbody>\n",
       "    <tr>\n",
       "      <th rowspan=\"5\" valign=\"top\">2019</th>\n",
       "      <th rowspan=\"5\" valign=\"top\">1</th>\n",
       "      <th rowspan=\"4\" valign=\"top\">1</th>\n",
       "      <th>Canada</th>\n",
       "      <td>1</td>\n",
       "      <td>1032.0</td>\n",
       "      <td>1032.0</td>\n",
       "      <td>1032.0</td>\n",
       "      <td>NaN</td>\n",
       "      <td>NaN</td>\n",
       "      <td>1</td>\n",
       "      <td>1425.0</td>\n",
       "      <td>1425.0</td>\n",
       "      <td>1425.0</td>\n",
       "      <td>NaN</td>\n",
       "      <td>NaN</td>\n",
       "    </tr>\n",
       "    <tr>\n",
       "      <th>El Salvador</th>\n",
       "      <td>1</td>\n",
       "      <td>1.0</td>\n",
       "      <td>1.0</td>\n",
       "      <td>1.0</td>\n",
       "      <td>NaN</td>\n",
       "      <td>NaN</td>\n",
       "      <td>1</td>\n",
       "      <td>1261.0</td>\n",
       "      <td>1261.0</td>\n",
       "      <td>1261.0</td>\n",
       "      <td>NaN</td>\n",
       "      <td>NaN</td>\n",
       "    </tr>\n",
       "    <tr>\n",
       "      <th>Mexico</th>\n",
       "      <td>7</td>\n",
       "      <td>17.0</td>\n",
       "      <td>6295.0</td>\n",
       "      <td>14667.0</td>\n",
       "      <td>2001.232013</td>\n",
       "      <td>4.004930e+06</td>\n",
       "      <td>7</td>\n",
       "      <td>277.0</td>\n",
       "      <td>931.0</td>\n",
       "      <td>4676.0</td>\n",
       "      <td>193.808325</td>\n",
       "      <td>37561.666667</td>\n",
       "    </tr>\n",
       "    <tr>\n",
       "      <th>United States</th>\n",
       "      <td>112</td>\n",
       "      <td>1.0</td>\n",
       "      <td>41168.0</td>\n",
       "      <td>345590.0</td>\n",
       "      <td>6000.561255</td>\n",
       "      <td>3.600674e+07</td>\n",
       "      <td>112</td>\n",
       "      <td>135.0</td>\n",
       "      <td>2181.0</td>\n",
       "      <td>114515.0</td>\n",
       "      <td>408.931036</td>\n",
       "      <td>167224.592584</td>\n",
       "    </tr>\n",
       "    <tr>\n",
       "      <th>2</th>\n",
       "      <th>Canada</th>\n",
       "      <td>1</td>\n",
       "      <td>1116.0</td>\n",
       "      <td>1116.0</td>\n",
       "      <td>1116.0</td>\n",
       "      <td>NaN</td>\n",
       "      <td>NaN</td>\n",
       "      <td>1</td>\n",
       "      <td>1425.0</td>\n",
       "      <td>1425.0</td>\n",
       "      <td>1425.0</td>\n",
       "      <td>NaN</td>\n",
       "      <td>NaN</td>\n",
       "    </tr>\n",
       "  </tbody>\n",
       "</table>\n",
       "</div>"
      ],
      "text/plain": [
       "                                     PASSENGERS                             \\\n",
       "                                          count     min      max       sum   \n",
       "YEAR QUARTER MONTH DEST_COUNTRY_NAME                                         \n",
       "2019 1       1     Canada                     1  1032.0   1032.0    1032.0   \n",
       "                   El Salvador                1     1.0      1.0       1.0   \n",
       "                   Mexico                     7    17.0   6295.0   14667.0   \n",
       "                   United States            112     1.0  41168.0  345590.0   \n",
       "             2     Canada                     1  1116.0   1116.0    1116.0   \n",
       "\n",
       "                                                                DISTANCE  \\\n",
       "                                              std           var    count   \n",
       "YEAR QUARTER MONTH DEST_COUNTRY_NAME                                       \n",
       "2019 1       1     Canada                     NaN           NaN        1   \n",
       "                   El Salvador                NaN           NaN        1   \n",
       "                   Mexico             2001.232013  4.004930e+06        7   \n",
       "                   United States      6000.561255  3.600674e+07      112   \n",
       "             2     Canada                     NaN           NaN        1   \n",
       "\n",
       "                                                                            \\\n",
       "                                         min     max       sum         std   \n",
       "YEAR QUARTER MONTH DEST_COUNTRY_NAME                                         \n",
       "2019 1       1     Canada             1425.0  1425.0    1425.0         NaN   \n",
       "                   El Salvador        1261.0  1261.0    1261.0         NaN   \n",
       "                   Mexico              277.0   931.0    4676.0  193.808325   \n",
       "                   United States       135.0  2181.0  114515.0  408.931036   \n",
       "             2     Canada             1425.0  1425.0    1425.0         NaN   \n",
       "\n",
       "                                                     \n",
       "                                                var  \n",
       "YEAR QUARTER MONTH DEST_COUNTRY_NAME                 \n",
       "2019 1       1     Canada                       NaN  \n",
       "                   El Salvador                  NaN  \n",
       "                   Mexico              37561.666667  \n",
       "                   United States      167224.592584  \n",
       "             2     Canada                       NaN  "
      ]
     },
     "execution_count": 7,
     "metadata": {},
     "output_type": "execute_result"
    }
   ],
   "source": [
    "saorigindestgrp = saorigin.groupby(['YEAR', 'QUARTER', 'MONTH','DEST_COUNTRY_NAME']).agg({'PASSENGERS':['count','min','max','sum','std','var'], 'DISTANCE':['count','min','max','sum','std','var']})\n",
    "saorigindestgrp.head()"
   ]
  },
  {
   "cell_type": "markdown",
   "metadata": {},
   "source": [
    "## Flights from San Antonio to Other Places"
   ]
  },
  {
   "cell_type": "markdown",
   "metadata": {},
   "source": [
    "### Summary of all places (Not US)"
   ]
  },
  {
   "cell_type": "code",
   "execution_count": 73,
   "metadata": {},
   "outputs": [
    {
     "data": {
      "text/plain": [
       "Text(0, 0.5, 'Number of Passengers')"
      ]
     },
     "execution_count": 73,
     "metadata": {},
     "output_type": "execute_result"
    },
    {
     "data": {
      "image/png": "[encoded data removed]",
      "text/plain": [
       "<Figure size 1440x360 with 1 Axes>"
      ]
     },
     "metadata": {
      "needs_background": "light"
     },
     "output_type": "display_data"
    }
   ],
   "source": [
    "# bar graph of passengers to destinations not US\n",
    "\n",
    "othercountries = saorigin.loc[(saorigin['DEST_COUNTRY_NAME']!='United States') & (saorigin['PASSENGERS']>0),:]\n",
    "# othercountries = saorigin.loc[(saorigin['PASSENGERS']>0) ,:]\n",
    "othercountriesgrp = othercountries.groupby('DEST_COUNTRY_NAME').agg({'PASSENGERS':'sum'})\n",
    "\n",
    "othercountriesbar = othercountriesgrp.plot.bar(figsize=(20,5), alpha=0.5, align=\"center\", legend=False, title=\"Passengers and Destinations not in US or Mexico\")\n",
    "othercountriesbar.set_xticklabels(othercountriesgrp.index, rotation=45)\n",
    "plt.ylabel(\"Number of Passengers\")"
   ]
  },
  {
   "cell_type": "markdown",
   "metadata": {},
   "source": [
    "### Comparison of 2019 Jan - July to 2020 Jan - July (Not US)"
   ]
  },
  {
   "cell_type": "code",
   "execution_count": 52,
   "metadata": {},
   "outputs": [
    {
     "data": {
      "text/plain": [
       "Text(0, 0.5, 'Number of Passengers')"
      ]
     },
     "execution_count": 52,
     "metadata": {},
     "output_type": "execute_result"
    },
    {
     "data": {
      "image/png": "[encoded data removed]",
      "text/plain": [
       "<Figure size 1440x360 with 1 Axes>"
      ]
     },
     "metadata": {
      "needs_background": "light"
     },
     "output_type": "display_data"
    }
   ],
   "source": [
    "barlabels = ['Jan','Feb','Mar','Apr','May','Jun','Jul']\n",
    "\n",
    "othercountries19 = saorigin.loc[(saorigin['YEAR']==2019) & (saorigin['MONTH']<8) & (saorigin['DEST_COUNTRY_NAME']!='United States') & (saorigin['PASSENGERS']>0) ,:]\n",
    "othercountries19\n",
    "othercountries19grp = othercountries19.groupby(['MONTH','DEST_COUNTRY_NAME'], as_index=False).agg({'PASSENGERS':'sum'})\n",
    "othercountries19grp\n",
    "\n",
    "\n",
    "pivot19 = othercountries19grp.pivot(index='MONTH', columns='DEST_COUNTRY_NAME', values='PASSENGERS').fillna(0)\n",
    "pivot19bar = pivot19.plot.bar(figsize=(20,5), alpha=0.5, align=\"center\", title=\"Passengers and Destinations\")\n",
    "pivot19bar.set_xticklabels(barlabels, rotation=0)\n",
    "plt.ylabel(\"Number of Passengers\")"
   ]
  },
  {
   "cell_type": "code",
   "execution_count": 71,
   "metadata": {},
   "outputs": [
    {
     "data": {
      "text/plain": [
       "Text(0, 0.5, 'Number of Passengers')"
      ]
     },
     "execution_count": 71,
     "metadata": {},
     "output_type": "execute_result"
    },
    {
     "data": {
      "image/png": "[encoded data removed]",
      "text/plain": [
       "<Figure size 1440x360 with 1 Axes>"
      ]
     },
     "metadata": {
      "needs_background": "light"
     },
     "output_type": "display_data"
    }
   ],
   "source": [
    "othercountries20 = saorigin.loc[(saorigin['YEAR']==2020) & (saorigin['MONTH']<8) & (saorigin['DEST_COUNTRY_NAME']!='United States') & (saorigin['PASSENGERS']>0) ,:]\n",
    "othercountries20\n",
    "othercountries20grp = othercountries20.groupby(['MONTH','DEST_COUNTRY_NAME'], as_index=False).agg({'PASSENGERS':'sum'})\n",
    "othercountries20grp\n",
    "\n",
    "# no data for other countries in April and May -- fill with 0\n",
    "adddata = pd.DataFrame({'MONTH':[4,5],\n",
    "                           'DEST_COUNTRY_NAME':['Mexico','Mexico'],\n",
    "                           'PASSENGERS':[0,0]})\n",
    "other20 = othercountries20grp.append(adddata, ignore_index=True)\n",
    "sorted20 = other20.sort_values('MONTH').reset_index(drop=True)\n",
    "\n",
    "pivot20 = sorted20.pivot(index='MONTH', columns='DEST_COUNTRY_NAME', values='PASSENGERS').fillna(0)\n",
    "pivot20bar = pivot20.plot.bar(figsize=(20,5), alpha=0.5, align=\"center\", title=\"Passengers and Destinations\")\n",
    "pivot20bar.set_xticklabels(barlabels, rotation=0)\n",
    "plt.ylabel(\"Number of Passengers\")\n"
   ]
  },
  {
   "cell_type": "code",
   "execution_count": null,
   "metadata": {},
   "outputs": [],
   "source": [
    "comparison_df = pd.DataFrame({'2019':othercountries19grp,\n",
    "                '2020': othercountries20grp}, index='MONTH')\n",
    "# comparison_df ={'2019':othercountries19grp,\n",
    "#                 '2020': othercountries20grp}\n",
    "\n",
    "fig, ax = plt.subplots()\n",
    "rects1 = ax.bar(x - width/2, men_means, width, label='Men')\n",
    "rects2 = ax.bar(x + width/2, women_means, width, label='Women')"
   ]
  },
  {
   "cell_type": "markdown",
   "metadata": {},
   "source": [
    "### Summary of 2019 Jan - July to 2020 Jan - July (US)"
   ]
  },
  {
   "cell_type": "code",
   "execution_count": null,
   "metadata": {},
   "outputs": [],
   "source": []
  },
  {
   "cell_type": "markdown",
   "metadata": {},
   "source": [
    "## Flights from Other Places to San Antonio"
   ]
  },
  {
   "cell_type": "markdown",
   "metadata": {},
   "source": [
    "### Summary of all places (not US and Mexico)"
   ]
  },
  {
   "cell_type": "code",
   "execution_count": 21,
   "metadata": {
    "scrolled": true
   },
   "outputs": [
    {
     "data": {
      "text/plain": [
       "Text(0, 0.5, 'Number of Passengers')"
      ]
     },
     "execution_count": 21,
     "metadata": {},
     "output_type": "execute_result"
    },
    {
     "data": {
      "image/png": "[encoded data removed]",
      "text/plain": [
       "<Figure size 1440x360 with 1 Axes>"
      ]
     },
     "metadata": {
      "needs_background": "light"
     },
     "output_type": "display_data"
    }
   ],
   "source": [
    "# bar graph of passengers from other countries not US or Mexico\n",
    "\n",
    "tosanantonio = sadestination.loc[(sadestination['ORIGIN_COUNTRY_NAME']!='United States') & (sadestination['ORIGIN_COUNTRY_NAME']!='Mexico') ,:]\n",
    "\n",
    "tosanantoniogrp = tosanantonio.groupby('ORIGIN_COUNTRY_NAME').agg({'PASSENGERS':'sum'})\n",
    "\n",
    "tosanantoniobar = tosanantoniogrp.plot.bar(figsize=(20,5), alpha=0.5, align=\"center\", legend=False, title=\"Passengers to San Antonio not from other parts of US or Mexico)\")\n",
    "tosanantoniobar.set_xticklabels(tosanantoniogrp.index, rotation=45)\n",
    "plt.ylabel(\"Number of Passengers\")"
   ]
  },
  {
   "cell_type": "markdown",
   "metadata": {},
   "source": [
    "### Comparison of 2019 Jan - July to 2020 Jan - July (Not US and Mexico)"
   ]
  },
  {
   "cell_type": "code",
   "execution_count": null,
   "metadata": {},
   "outputs": [],
   "source": []
  },
  {
   "cell_type": "markdown",
   "metadata": {},
   "source": [
    "### Summary of 2019 Jan - July to 2020 Jan - July (US and Mexico)"
   ]
  },
  {
   "cell_type": "code",
   "execution_count": null,
   "metadata": {},
   "outputs": [],
   "source": []
  }
 ],
 "metadata": {
  "kernelspec": {
   "display_name": "Python [conda env:PythonData] *",
   "language": "python",
   "name": "conda-env-PythonData-py"
  },
  "language_info": {
   "codemirror_mode": {
    "name": "ipython",
    "version": 3
   },
   "file_extension": ".py",
   "mimetype": "text/x-python",
   "name": "python",
   "nbconvert_exporter": "python",
   "pygments_lexer": "ipython3",
   "version": "3.6.10"
  }
 },
 "nbformat": 4,
 "nbformat_minor": 4
}
