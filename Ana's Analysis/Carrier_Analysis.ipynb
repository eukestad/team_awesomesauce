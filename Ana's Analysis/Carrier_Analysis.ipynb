{
 "cells": [
  {
   "cell_type": "code",
   "execution_count": 3,
   "metadata": {},
   "outputs": [],
   "source": [
    "import pandas as pd\n",
    "import numpy as np\n",
    "import matplotlib.pyplot as plt"
   ]
  },
  {
   "cell_type": "code",
   "execution_count": 4,
   "metadata": {},
   "outputs": [],
   "source": [
    "# Select CSV file - Clean data\n",
    "Carrier_Data = \"Flightdata.csv\"\n"
   ]
  },
  {
   "cell_type": "code",
   "execution_count": 5,
   "metadata": {},
   "outputs": [],
   "source": [
    "# Read CSV file\n",
    "Carrier_Data_df = pd.read_csv(Carrier_Data)\n"
   ]
  },
  {
   "cell_type": "code",
   "execution_count": 6,
   "metadata": {},
   "outputs": [
    {
     "data": {
      "text/plain": [
       "UNIQUE_CARRIER_NAME    235105\n",
       "ORIGIN                 235105\n",
       "ORIGIN_CITY_NAME       235105\n",
       "ORIGIN_STATE_ABR       216096\n",
       "ORIGIN_STATE_NM        216096\n",
       "ORIGIN_COUNTRY         235105\n",
       "ORIGIN_COUNTRY_NAME    235105\n",
       "ORIGIN_WAC             235105\n",
       "DEST                   235105\n",
       "DEST_CITY_NAME         235105\n",
       "DEST_STATE_ABR         216363\n",
       "DEST_STATE_NM          216363\n",
       "DEST_COUNTRY           235105\n",
       "DEST_COUNTRY_NAME      235105\n",
       "DEST_WAC               235105\n",
       "YEAR                   235105\n",
       "QUARTER                235105\n",
       "MONTH                  235105\n",
       "DISTANCE_GROUP         235105\n",
       "PASSENGERS             235105\n",
       "DISTANCE               235105\n",
       "CLASS                  235105\n",
       "flight                 235105\n",
       "dtype: int64"
      ]
     },
     "execution_count": 6,
     "metadata": {},
     "output_type": "execute_result"
    }
   ],
   "source": [
    "# Count lines in each colum\n",
    "Carrier_Data_df.count()"
   ]
  },
  {
   "cell_type": "code",
   "execution_count": 7,
   "metadata": {},
   "outputs": [],
   "source": [
    "# Group per year\n",
    "Carrier_Data_df2019 = Carrier_Data_df.loc[Carrier_Data_df['YEAR']==2019,:]\n",
    "Carrier_Data_df2020 = Carrier_Data_df.loc[Carrier_Data_df['YEAR']==2020,:]"
   ]
  },
  {
   "cell_type": "code",
   "execution_count": 8,
   "metadata": {},
   "outputs": [
    {
     "data": {
      "text/html": [
       "<div>\n",
       "<style scoped>\n",
       "    .dataframe tbody tr th:only-of-type {\n",
       "        vertical-align: middle;\n",
       "    }\n",
       "\n",
       "    .dataframe tbody tr th {\n",
       "        vertical-align: top;\n",
       "    }\n",
       "\n",
       "    .dataframe thead th {\n",
       "        text-align: right;\n",
       "    }\n",
       "</style>\n",
       "<table border=\"1\" class=\"dataframe\">\n",
       "  <thead>\n",
       "    <tr style=\"text-align: right;\">\n",
       "      <th></th>\n",
       "      <th>PASSENGERS</th>\n",
       "      <th>2019 Total</th>\n",
       "      <th>2020 Total</th>\n",
       "    </tr>\n",
       "    <tr>\n",
       "      <th>UNIQUE_CARRIER_NAME</th>\n",
       "      <th></th>\n",
       "      <th></th>\n",
       "      <th></th>\n",
       "    </tr>\n",
       "  </thead>\n",
       "  <tbody>\n",
       "    <tr>\n",
       "      <th>40-Mile Air</th>\n",
       "      <td>281.0</td>\n",
       "      <td>281.0</td>\n",
       "      <td>562.0</td>\n",
       "    </tr>\n",
       "    <tr>\n",
       "      <th>ABC Aerolineas SA de CV dba Interjet</th>\n",
       "      <td>1372860.0</td>\n",
       "      <td>1372860.0</td>\n",
       "      <td>2745720.0</td>\n",
       "    </tr>\n",
       "    <tr>\n",
       "      <th>ADVANCED AIR, LLC</th>\n",
       "      <td>15719.0</td>\n",
       "      <td>15719.0</td>\n",
       "      <td>31438.0</td>\n",
       "    </tr>\n",
       "    <tr>\n",
       "      <th>Aer Lingus Plc</th>\n",
       "      <td>1295915.0</td>\n",
       "      <td>1295915.0</td>\n",
       "      <td>2591830.0</td>\n",
       "    </tr>\n",
       "    <tr>\n",
       "      <th>Aeroenlaces Nacionales, S.A. de C.V. d/b/a VivaAerobus</th>\n",
       "      <td>262990.0</td>\n",
       "      <td>262990.0</td>\n",
       "      <td>525980.0</td>\n",
       "    </tr>\n",
       "    <tr>\n",
       "      <th>...</th>\n",
       "      <td>...</td>\n",
       "      <td>...</td>\n",
       "      <td>...</td>\n",
       "    </tr>\n",
       "    <tr>\n",
       "      <th>Warbelow</th>\n",
       "      <td>2606.0</td>\n",
       "      <td>2606.0</td>\n",
       "      <td>5212.0</td>\n",
       "    </tr>\n",
       "    <tr>\n",
       "      <th>Westjet</th>\n",
       "      <td>3239371.0</td>\n",
       "      <td>3239371.0</td>\n",
       "      <td>6478742.0</td>\n",
       "    </tr>\n",
       "    <tr>\n",
       "      <th>Wright Air Service</th>\n",
       "      <td>32374.0</td>\n",
       "      <td>32374.0</td>\n",
       "      <td>64748.0</td>\n",
       "    </tr>\n",
       "    <tr>\n",
       "      <th>XL Airways France</th>\n",
       "      <td>119515.0</td>\n",
       "      <td>119515.0</td>\n",
       "      <td>239030.0</td>\n",
       "    </tr>\n",
       "    <tr>\n",
       "      <th>Xiamen Airlines Co., Ltd.</th>\n",
       "      <td>167919.0</td>\n",
       "      <td>167919.0</td>\n",
       "      <td>335838.0</td>\n",
       "    </tr>\n",
       "  </tbody>\n",
       "</table>\n",
       "<p>205 rows × 3 columns</p>\n",
       "</div>"
      ],
      "text/plain": [
       "                                                    PASSENGERS  2019 Total  \\\n",
       "UNIQUE_CARRIER_NAME                                                          \n",
       "40-Mile Air                                              281.0       281.0   \n",
       "ABC Aerolineas SA de CV dba Interjet                 1372860.0   1372860.0   \n",
       "ADVANCED AIR, LLC                                      15719.0     15719.0   \n",
       "Aer Lingus Plc                                       1295915.0   1295915.0   \n",
       "Aeroenlaces Nacionales, S.A. de C.V. d/b/a Viva...    262990.0    262990.0   \n",
       "...                                                        ...         ...   \n",
       "Warbelow                                                2606.0      2606.0   \n",
       "Westjet                                              3239371.0   3239371.0   \n",
       "Wright Air Service                                     32374.0     32374.0   \n",
       "XL Airways France                                     119515.0    119515.0   \n",
       "Xiamen Airlines Co., Ltd.                             167919.0    167919.0   \n",
       "\n",
       "                                                    2020 Total  \n",
       "UNIQUE_CARRIER_NAME                                             \n",
       "40-Mile Air                                              562.0  \n",
       "ABC Aerolineas SA de CV dba Interjet                 2745720.0  \n",
       "ADVANCED AIR, LLC                                      31438.0  \n",
       "Aer Lingus Plc                                       2591830.0  \n",
       "Aeroenlaces Nacionales, S.A. de C.V. d/b/a Viva...    525980.0  \n",
       "...                                                        ...  \n",
       "Warbelow                                                5212.0  \n",
       "Westjet                                              6478742.0  \n",
       "Wright Air Service                                     64748.0  \n",
       "XL Airways France                                     239030.0  \n",
       "Xiamen Airlines Co., Ltd.                             335838.0  \n",
       "\n",
       "[205 rows x 3 columns]"
      ]
     },
     "execution_count": 8,
     "metadata": {},
     "output_type": "execute_result"
    }
   ],
   "source": [
    "# used pivot table function to create dataframe for plot\n",
    "\n",
    "Carrier_Analysis = pd.pivot_table(Carrier_Data_df2019, values='PASSENGERS', index='UNIQUE_CARRIER_NAME',\n",
    "                    aggfunc=np.sum)\n",
    "Carrier_Analysis['2019 Total'] = Carrier_Analysis.sum(axis=1)\n",
    "Carrier_Analysis['2020 Total'] = Carrier_Analysis.sum(axis=1)\n",
    "\n",
    "Carrier_Analysis"
   ]
  },
  {
   "cell_type": "code",
   "execution_count": 9,
   "metadata": {},
   "outputs": [
    {
     "data": {
      "text/html": [
       "<div>\n",
       "<style scoped>\n",
       "    .dataframe tbody tr th:only-of-type {\n",
       "        vertical-align: middle;\n",
       "    }\n",
       "\n",
       "    .dataframe tbody tr th {\n",
       "        vertical-align: top;\n",
       "    }\n",
       "\n",
       "    .dataframe thead th {\n",
       "        text-align: right;\n",
       "    }\n",
       "</style>\n",
       "<table border=\"1\" class=\"dataframe\">\n",
       "  <thead>\n",
       "    <tr style=\"text-align: right;\">\n",
       "      <th></th>\n",
       "      <th>PASSENGERS</th>\n",
       "      <th>2019 Total</th>\n",
       "      <th>2020 Total</th>\n",
       "    </tr>\n",
       "    <tr>\n",
       "      <th>UNIQUE_CARRIER_NAME</th>\n",
       "      <th></th>\n",
       "      <th></th>\n",
       "      <th></th>\n",
       "    </tr>\n",
       "  </thead>\n",
       "  <tbody>\n",
       "    <tr>\n",
       "      <th>Southwest Airlines Co.</th>\n",
       "      <td>95064991.0</td>\n",
       "      <td>95064991.0</td>\n",
       "      <td>190129982.0</td>\n",
       "    </tr>\n",
       "    <tr>\n",
       "      <th>Delta Air Lines Inc.</th>\n",
       "      <td>94095570.0</td>\n",
       "      <td>94095570.0</td>\n",
       "      <td>188191140.0</td>\n",
       "    </tr>\n",
       "    <tr>\n",
       "      <th>American Airlines Inc.</th>\n",
       "      <td>90900636.0</td>\n",
       "      <td>90900636.0</td>\n",
       "      <td>181801272.0</td>\n",
       "    </tr>\n",
       "    <tr>\n",
       "      <th>United Air Lines Inc.</th>\n",
       "      <td>67928558.0</td>\n",
       "      <td>67928558.0</td>\n",
       "      <td>135857116.0</td>\n",
       "    </tr>\n",
       "    <tr>\n",
       "      <th>JetBlue Airways</th>\n",
       "      <td>25213896.0</td>\n",
       "      <td>25213896.0</td>\n",
       "      <td>50427792.0</td>\n",
       "    </tr>\n",
       "    <tr>\n",
       "      <th>SkyWest Airlines Inc.</th>\n",
       "      <td>24258967.0</td>\n",
       "      <td>24258967.0</td>\n",
       "      <td>48517934.0</td>\n",
       "    </tr>\n",
       "    <tr>\n",
       "      <th>Alaska Airlines Inc.</th>\n",
       "      <td>20463026.0</td>\n",
       "      <td>20463026.0</td>\n",
       "      <td>40926052.0</td>\n",
       "    </tr>\n",
       "    <tr>\n",
       "      <th>Spirit Air Lines</th>\n",
       "      <td>19625225.0</td>\n",
       "      <td>19625225.0</td>\n",
       "      <td>39250450.0</td>\n",
       "    </tr>\n",
       "    <tr>\n",
       "      <th>Frontier Airlines Inc.</th>\n",
       "      <td>12699564.0</td>\n",
       "      <td>12699564.0</td>\n",
       "      <td>25399128.0</td>\n",
       "    </tr>\n",
       "    <tr>\n",
       "      <th>Republic Airline</th>\n",
       "      <td>10785836.0</td>\n",
       "      <td>10785836.0</td>\n",
       "      <td>21571672.0</td>\n",
       "    </tr>\n",
       "  </tbody>\n",
       "</table>\n",
       "</div>"
      ],
      "text/plain": [
       "                        PASSENGERS  2019 Total   2020 Total\n",
       "UNIQUE_CARRIER_NAME                                        \n",
       "Southwest Airlines Co.  95064991.0  95064991.0  190129982.0\n",
       "Delta Air Lines Inc.    94095570.0  94095570.0  188191140.0\n",
       "American Airlines Inc.  90900636.0  90900636.0  181801272.0\n",
       "United Air Lines Inc.   67928558.0  67928558.0  135857116.0\n",
       "JetBlue Airways         25213896.0  25213896.0   50427792.0\n",
       "SkyWest Airlines Inc.   24258967.0  24258967.0   48517934.0\n",
       "Alaska Airlines Inc.    20463026.0  20463026.0   40926052.0\n",
       "Spirit Air Lines        19625225.0  19625225.0   39250450.0\n",
       "Frontier Airlines Inc.  12699564.0  12699564.0   25399128.0\n",
       "Republic Airline        10785836.0  10785836.0   21571672.0"
      ]
     },
     "execution_count": 9,
     "metadata": {},
     "output_type": "execute_result"
    }
   ],
   "source": [
    "# Sort to select top 10 airlines in 2019\n",
    "Sorted_Carrier = Carrier_Analysis.sort_values(\"2019 Total\", ascending=False)\n",
    "Sorted_Carrier.head(10)"
   ]
  },
  {
   "cell_type": "code",
   "execution_count": 21,
   "metadata": {},
   "outputs": [
    {
     "data": {
      "text/plain": [
       "Text(0.5, 0, 'Carrier Name')"
      ]
     },
     "execution_count": 21,
     "metadata": {},
     "output_type": "execute_result"
    },
    {
     "data": {
      "image/png": "[encoded data removed]",
      "text/plain": [
       "<Figure size 1080x360 with 1 Axes>"
      ]
     },
     "metadata": {
      "needs_background": "light"
     },
     "output_type": "display_data"
    }
   ],
   "source": [
    "filtered_carrier = Sorted_Carrier[['2019 Total','2020 Total']].head(10)\n",
    "filtered_carrier_bar = filtered_carrier.plot.bar(figsize=(15,5), alpha=0.5, align=\"center\", title=\"Passengers by Carrier 2019 to 2020\")\n",
    "filtered_carrier_bar.set_xticklabels(filtered_carrier.index, rotation=45)\n",
    "filtered_carrier_bar.set_ylabel(\"Total Passengers\")\n",
    "filtered_carrier_bar.set_xlabel(\"Carrier Name\")\n"
   ]
  },
  {
   "cell_type": "code",
   "execution_count": 32,
   "metadata": {},
   "outputs": [
    {
     "data": {
      "image/png": "[encoded data removed]",
      "text/plain": [
       "<Figure size 432x288 with 1 Axes>"
      ]
     },
     "metadata": {},
     "output_type": "display_data"
    }
   ],
   "source": [
    "# create data\n",
    "names=('Top 10 impacted airlines', 'Others')\n",
    "size=[74,26]\n",
    " \n",
    "plt.pie(size, labels=names)\n",
    "# Create a circle for the center of the plot\n",
    "my_circle=plt.Circle( (0,0), 0.7, color='white')\n",
    "p=plt.gcf()\n",
    "p.gca().add_artist(my_circle)\n",
    "\n",
    "plt.show()\n"
   ]
  },
  {
   "cell_type": "code",
   "execution_count": null,
   "metadata": {},
   "outputs": [],
   "source": []
  }
 ],
 "metadata": {
  "kernelspec": {
   "display_name": "pythonData",
   "language": "python",
   "name": "pythondata"
  },
  "language_info": {
   "codemirror_mode": {
    "name": "ipython",
    "version": 3
   },
   "file_extension": ".py",
   "mimetype": "text/x-python",
   "name": "python",
   "nbconvert_exporter": "python",
   "pygments_lexer": "ipython3",
   "version": "3.6.10"
  }
 },
 "nbformat": 4,
 "nbformat_minor": 4
}
